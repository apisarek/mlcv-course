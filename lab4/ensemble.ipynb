{
 "cells": [
  {
   "cell_type": "code",
   "execution_count": 1,
   "metadata": {
    "collapsed": true
   },
   "outputs": [],
   "source": [
    "import numpy as np\n",
    "import matplotlib.pyplot as plt\n",
    "from glob import glob\n",
    "from scipy.misc import imread\n",
    "from sklearn.model_selection import train_test_split\n",
    "from sklearn.decomposition import PCA\n",
    "from sklearn.svm import SVC\n",
    "from sklearn.metrics import precision_score, recall_score"
   ]
  },
  {
   "cell_type": "code",
   "execution_count": 2,
   "metadata": {
    "collapsed": true
   },
   "outputs": [],
   "source": [
    "folders = glob('../lab3/lfw_funneled/*')"
   ]
  },
  {
   "cell_type": "code",
   "execution_count": 3,
   "metadata": {
    "collapsed": true
   },
   "outputs": [],
   "source": [
    "paths = []\n",
    "for folder in folders:\n",
    "    faces = glob(folder + '/*')\n",
    "    if len(faces) >= 70:\n",
    "        paths.append(folder)"
   ]
  },
  {
   "cell_type": "code",
   "execution_count": 4,
   "metadata": {
    "collapsed": true
   },
   "outputs": [],
   "source": [
    "images = []\n",
    "labels = []\n",
    "for idx, folder in enumerate(paths):\n",
    "    new_paths = glob(folder + '/*')\n",
    "    new_images = [imread(path) for path in new_paths]\n",
    "    images.extend(new_images)\n",
    "    labels.extend([idx] * len(new_images))"
   ]
  },
  {
   "cell_type": "code",
   "execution_count": 5,
   "metadata": {
    "collapsed": true
   },
   "outputs": [],
   "source": [
    "images = np.array(images)\n",
    "labels = np.array(labels)\n",
    "images = np.array(images)\n",
    "labels = np.array(labels)"
   ]
  },
  {
   "cell_type": "code",
   "execution_count": 6,
   "metadata": {},
   "outputs": [
    {
     "name": "stderr",
     "output_type": "stream",
     "text": [
      "/home/unj/anaconda3/lib/python3.6/site-packages/sklearn/model_selection/_split.py:2010: FutureWarning: From version 0.21, test_size will always complement train_size unless both are specified.\n",
      "  FutureWarning)\n"
     ]
    }
   ],
   "source": [
    "X_train, X_test, y_train, y_test = train_test_split(images, labels, train_size=0.75)"
   ]
  },
  {
   "cell_type": "code",
   "execution_count": 8,
   "metadata": {},
   "outputs": [],
   "source": [
    "pca = PCA(n_components=150)\n",
    "\n",
    "train_len = len(X_train)\n",
    "test_len = len(X_test)\n",
    "train_features = pca.fit_transform(X_train.reshape(train_len, -1))\n",
    "\n",
    "test_features = pca.transform(X_test.reshape(test_len, -1))"
   ]
  },
  {
   "cell_type": "code",
   "execution_count": 14,
   "metadata": {
    "collapsed": true
   },
   "outputs": [],
   "source": [
    "from sklearn.ensemble import AdaBoostClassifier\n",
    "from sklearn.metrics import classification_report, accuracy_score"
   ]
  },
  {
   "cell_type": "code",
   "execution_count": 33,
   "metadata": {},
   "outputs": [
    {
     "name": "stderr",
     "output_type": "stream",
     "text": [
      "/home/unj/anaconda3/lib/python3.6/site-packages/sklearn/metrics/classification.py:1135: UndefinedMetricWarning: Precision and F-score are ill-defined and being set to 0.0 in labels with no predicted samples.\n",
      "  'precision', 'predicted', average, warn_for)\n",
      "/home/unj/anaconda3/lib/python3.6/site-packages/sklearn/metrics/classification.py:1135: UndefinedMetricWarning: Precision and F-score are ill-defined and being set to 0.0 in labels with no predicted samples.\n",
      "  'precision', 'predicted', average, warn_for)\n"
     ]
    },
    {
     "name": "stdout",
     "output_type": "stream",
     "text": [
      "estimators: 1 score: 0.41 \n",
      "              precision    recall  f1-score   support\n",
      "\n",
      "          0       0.00      0.00      0.00        33\n",
      "          1       0.00      0.00      0.00        27\n",
      "          2       0.00      0.00      0.00        15\n",
      "          3       0.00      0.00      0.00        20\n",
      "          4       0.00      0.00      0.00        29\n",
      "          5       0.00      0.00      0.00        65\n",
      "          6       0.41      1.00      0.58       133\n",
      "\n",
      "avg / total       0.17      0.41      0.24       322\n",
      "\n",
      "estimators: 5 score: 0.41 \n",
      "              precision    recall  f1-score   support\n",
      "\n",
      "          0       0.00      0.00      0.00        33\n",
      "          1       0.00      0.00      0.00        27\n",
      "          2       0.67      0.13      0.22        15\n",
      "          3       0.00      0.00      0.00        20\n",
      "          4       0.06      0.03      0.04        29\n",
      "          5       0.00      0.00      0.00        65\n",
      "          6       0.43      0.98      0.60       133\n",
      "\n",
      "avg / total       0.21      0.41      0.26       322\n",
      "\n"
     ]
    },
    {
     "name": "stderr",
     "output_type": "stream",
     "text": [
      "/home/unj/anaconda3/lib/python3.6/site-packages/sklearn/metrics/classification.py:1135: UndefinedMetricWarning: Precision and F-score are ill-defined and being set to 0.0 in labels with no predicted samples.\n",
      "  'precision', 'predicted', average, warn_for)\n"
     ]
    },
    {
     "name": "stdout",
     "output_type": "stream",
     "text": [
      "estimators: 10 score: 0.42 \n",
      "              precision    recall  f1-score   support\n",
      "\n",
      "          0       0.00      0.00      0.00        33\n",
      "          1       0.00      0.00      0.00        27\n",
      "          2       0.57      0.27      0.36        15\n",
      "          3       0.00      0.00      0.00        20\n",
      "          4       0.06      0.03      0.04        29\n",
      "          5       0.00      0.00      0.00        65\n",
      "          6       0.44      0.98      0.61       133\n",
      "\n",
      "avg / total       0.21      0.42      0.27       322\n",
      "\n"
     ]
    },
    {
     "name": "stderr",
     "output_type": "stream",
     "text": [
      "/home/unj/anaconda3/lib/python3.6/site-packages/sklearn/metrics/classification.py:1135: UndefinedMetricWarning: Precision and F-score are ill-defined and being set to 0.0 in labels with no predicted samples.\n",
      "  'precision', 'predicted', average, warn_for)\n"
     ]
    },
    {
     "name": "stdout",
     "output_type": "stream",
     "text": [
      "estimators: 25 score: 0.39 \n",
      "              precision    recall  f1-score   support\n",
      "\n",
      "          0       0.29      0.06      0.10        33\n",
      "          1       0.00      0.00      0.00        27\n",
      "          2       0.19      0.33      0.24        15\n",
      "          3       0.00      0.00      0.00        20\n",
      "          4       0.08      0.03      0.05        29\n",
      "          5       0.00      0.00      0.00        65\n",
      "          6       0.43      0.88      0.58       133\n",
      "\n",
      "avg / total       0.22      0.39      0.27       322\n",
      "\n"
     ]
    },
    {
     "name": "stderr",
     "output_type": "stream",
     "text": [
      "/home/unj/anaconda3/lib/python3.6/site-packages/sklearn/metrics/classification.py:1135: UndefinedMetricWarning: Precision and F-score are ill-defined and being set to 0.0 in labels with no predicted samples.\n",
      "  'precision', 'predicted', average, warn_for)\n"
     ]
    },
    {
     "name": "stdout",
     "output_type": "stream",
     "text": [
      "estimators: 50 score: 0.38 \n",
      "              precision    recall  f1-score   support\n",
      "\n",
      "          0       0.25      0.06      0.10        33\n",
      "          1       0.00      0.00      0.00        27\n",
      "          2       0.19      0.33      0.24        15\n",
      "          3       0.11      0.10      0.11        20\n",
      "          4       0.07      0.03      0.05        29\n",
      "          5       0.00      0.00      0.00        65\n",
      "          6       0.44      0.85      0.58       133\n",
      "\n",
      "avg / total       0.23      0.38      0.27       322\n",
      "\n",
      "estimators: 100 score: 0.40 \n",
      "              precision    recall  f1-score   support\n",
      "\n",
      "          0       0.25      0.09      0.13        33\n",
      "          1       0.00      0.00      0.00        27\n",
      "          2       0.29      0.40      0.33        15\n",
      "          3       0.23      0.15      0.18        20\n",
      "          4       0.12      0.07      0.09        29\n",
      "          5       0.37      0.26      0.31        65\n",
      "          6       0.49      0.73      0.59       133\n",
      "\n",
      "avg / total       0.34      0.40      0.35       322\n",
      "\n"
     ]
    }
   ],
   "source": [
    "for n_estimators in [1, 5, 10, 25, 50, 100]:\n",
    "    clf = AdaBoostClassifier(n_estimators=n_estimators)\n",
    "    clf.fit(train_features, y_train)\n",
    "    y_pred = clf.predict(test_features)\n",
    "    score = accuracy_score(y_test, y_pred)\n",
    "    report = classification_report(y_test, y_pred)\n",
    "    msg = f'estimators: {n_estimators} score: {score:.2f} \\n {report}'\n",
    "    print(msg)\n"
   ]
  },
  {
   "cell_type": "code",
   "execution_count": 27,
   "metadata": {
    "collapsed": true
   },
   "outputs": [],
   "source": [
    "from sklearn.tree import DecisionTreeClassifier\n",
    "from sklearn.ensemble import VotingClassifier\n",
    "from sklearn.svm import SVC\n",
    "from sklearn.neighbors import KNeighborsClassifier\n",
    "\n",
    "from itertools import product"
   ]
  },
  {
   "cell_type": "code",
   "execution_count": 28,
   "metadata": {
    "collapsed": true
   },
   "outputs": [],
   "source": [
    "depths = [1, 5, 10]\n",
    "kernels = ['linear', 'poly', 'rbf']\n",
    "neighbors = [1, 3, 5]"
   ]
  },
  {
   "cell_type": "code",
   "execution_count": 35,
   "metadata": {
    "scrolled": false
   },
   "outputs": [
    {
     "name": "stdout",
     "output_type": "stream",
     "text": [
      "{'depth': 1, 'kernel': 'linear', 'neighbor': 1}\n",
      "accuracy: 0.58\n",
      "             precision    recall  f1-score   support\n",
      "\n",
      "          0       0.39      0.55      0.46        33\n",
      "          1       0.44      0.26      0.33        27\n",
      "          2       0.78      0.47      0.58        15\n",
      "          3       0.33      0.10      0.15        20\n",
      "          4       0.50      0.38      0.43        29\n",
      "          5       0.89      0.37      0.52        65\n",
      "          6       0.61      0.89      0.72       133\n",
      "\n",
      "avg / total       0.61      0.58      0.55       322\n",
      "\n",
      "{'depth': 1, 'kernel': 'linear', 'neighbor': 3}\n",
      "accuracy: 0.54\n",
      "             precision    recall  f1-score   support\n",
      "\n",
      "          0       0.24      0.48      0.32        33\n",
      "          1       0.40      0.30      0.34        27\n",
      "          2       0.80      0.53      0.64        15\n",
      "          3       0.50      0.10      0.17        20\n",
      "          4       0.44      0.28      0.34        29\n",
      "          5       0.93      0.20      0.33        65\n",
      "          6       0.63      0.90      0.74       133\n",
      "\n",
      "avg / total       0.62      0.54      0.51       322\n",
      "\n",
      "{'depth': 1, 'kernel': 'linear', 'neighbor': 5}\n",
      "accuracy: 0.54\n",
      "             precision    recall  f1-score   support\n",
      "\n",
      "          0       0.26      0.39      0.31        33\n",
      "          1       0.53      0.30      0.38        27\n",
      "          2       0.80      0.53      0.64        15\n",
      "          3       0.00      0.00      0.00        20\n",
      "          4       0.33      0.24      0.28        29\n",
      "          5       0.88      0.23      0.37        65\n",
      "          6       0.59      0.92      0.72       133\n",
      "\n",
      "avg / total       0.56      0.54      0.49       322\n",
      "\n",
      "{'depth': 1, 'kernel': 'poly', 'neighbor': 1}\n",
      "accuracy: 0.52\n",
      "             precision    recall  f1-score   support\n",
      "\n",
      "          0       0.38      0.30      0.34        33\n",
      "          1       0.45      0.19      0.26        27\n",
      "          2       0.50      0.13      0.21        15\n",
      "          3       0.50      0.05      0.09        20\n",
      "          4       0.42      0.28      0.33        29\n",
      "          5       0.88      0.32      0.47        65\n",
      "          6       0.51      0.90      0.65       133\n",
      "\n",
      "avg / total       0.56      0.52      0.47       322\n",
      "\n",
      "{'depth': 1, 'kernel': 'poly', 'neighbor': 3}\n",
      "accuracy: 0.48\n",
      "             precision    recall  f1-score   support\n",
      "\n",
      "          0       0.24      0.33      0.28        33\n",
      "          1       0.33      0.11      0.17        27\n",
      "          2       0.50      0.20      0.29        15\n",
      "          3       0.50      0.05      0.09        20\n",
      "          4       0.54      0.24      0.33        29\n",
      "          5       0.86      0.18      0.30        65\n",
      "          6       0.51      0.89      0.65       133\n",
      "\n",
      "avg / total       0.54      0.48      0.42       322\n",
      "\n",
      "{'depth': 1, 'kernel': 'poly', 'neighbor': 5}\n",
      "accuracy: 0.51\n",
      "             precision    recall  f1-score   support\n",
      "\n",
      "          0       0.28      0.30      0.29        33\n",
      "          1       0.57      0.15      0.24        27\n",
      "          2       0.60      0.20      0.30        15\n",
      "          3       0.00      0.00      0.00        20\n",
      "          4       0.47      0.24      0.32        29\n",
      "          5       0.85      0.26      0.40        65\n",
      "          6       0.52      0.92      0.66       133\n",
      "\n",
      "avg / total       0.53      0.51      0.45       322\n",
      "\n",
      "{'depth': 1, 'kernel': 'rbf', 'neighbor': 1}\n",
      "accuracy: 0.41\n",
      "             precision    recall  f1-score   support\n",
      "\n",
      "          0       0.00      0.00      0.00        33\n",
      "          1       0.00      0.00      0.00        27\n",
      "          2       0.00      0.00      0.00        15\n",
      "          3       0.00      0.00      0.00        20\n",
      "          4       0.00      0.00      0.00        29\n",
      "          5       0.00      0.00      0.00        65\n",
      "          6       0.41      1.00      0.58       133\n",
      "\n",
      "avg / total       0.17      0.41      0.24       322\n",
      "\n",
      "{'depth': 1, 'kernel': 'rbf', 'neighbor': 3}\n"
     ]
    },
    {
     "name": "stderr",
     "output_type": "stream",
     "text": [
      "/home/unj/anaconda3/lib/python3.6/site-packages/sklearn/metrics/classification.py:1135: UndefinedMetricWarning: Precision and F-score are ill-defined and being set to 0.0 in labels with no predicted samples.\n",
      "  'precision', 'predicted', average, warn_for)\n"
     ]
    },
    {
     "name": "stdout",
     "output_type": "stream",
     "text": [
      "accuracy: 0.41\n",
      "             precision    recall  f1-score   support\n",
      "\n",
      "          0       0.00      0.00      0.00        33\n",
      "          1       0.00      0.00      0.00        27\n",
      "          2       0.00      0.00      0.00        15\n",
      "          3       0.00      0.00      0.00        20\n",
      "          4       0.00      0.00      0.00        29\n",
      "          5       0.00      0.00      0.00        65\n",
      "          6       0.41      1.00      0.58       133\n",
      "\n",
      "avg / total       0.17      0.41      0.24       322\n",
      "\n",
      "{'depth': 1, 'kernel': 'rbf', 'neighbor': 5}\n"
     ]
    },
    {
     "name": "stderr",
     "output_type": "stream",
     "text": [
      "/home/unj/anaconda3/lib/python3.6/site-packages/sklearn/metrics/classification.py:1135: UndefinedMetricWarning: Precision and F-score are ill-defined and being set to 0.0 in labels with no predicted samples.\n",
      "  'precision', 'predicted', average, warn_for)\n"
     ]
    },
    {
     "name": "stdout",
     "output_type": "stream",
     "text": [
      "accuracy: 0.41\n",
      "             precision    recall  f1-score   support\n",
      "\n",
      "          0       0.00      0.00      0.00        33\n",
      "          1       0.00      0.00      0.00        27\n",
      "          2       0.00      0.00      0.00        15\n",
      "          3       0.00      0.00      0.00        20\n",
      "          4       0.00      0.00      0.00        29\n",
      "          5       0.00      0.00      0.00        65\n",
      "          6       0.41      1.00      0.58       133\n",
      "\n",
      "avg / total       0.17      0.41      0.24       322\n",
      "\n",
      "{'depth': 5, 'kernel': 'linear', 'neighbor': 1}\n"
     ]
    },
    {
     "name": "stderr",
     "output_type": "stream",
     "text": [
      "/home/unj/anaconda3/lib/python3.6/site-packages/sklearn/metrics/classification.py:1135: UndefinedMetricWarning: Precision and F-score are ill-defined and being set to 0.0 in labels with no predicted samples.\n",
      "  'precision', 'predicted', average, warn_for)\n"
     ]
    },
    {
     "name": "stdout",
     "output_type": "stream",
     "text": [
      "accuracy: 0.55\n",
      "             precision    recall  f1-score   support\n",
      "\n",
      "          0       0.38      0.61      0.47        33\n",
      "          1       0.35      0.30      0.32        27\n",
      "          2       0.53      0.60      0.56        15\n",
      "          3       0.33      0.10      0.15        20\n",
      "          4       0.36      0.31      0.33        29\n",
      "          5       0.80      0.43      0.56        65\n",
      "          6       0.63      0.77      0.69       133\n",
      "\n",
      "avg / total       0.57      0.55      0.54       322\n",
      "\n",
      "{'depth': 5, 'kernel': 'linear', 'neighbor': 3}\n",
      "accuracy: 0.52\n",
      "             precision    recall  f1-score   support\n",
      "\n",
      "          0       0.23      0.55      0.32        33\n",
      "          1       0.34      0.37      0.36        27\n",
      "          2       0.64      0.60      0.62        15\n",
      "          3       0.50      0.15      0.23        20\n",
      "          4       0.38      0.28      0.32        29\n",
      "          5       0.90      0.29      0.44        65\n",
      "          6       0.65      0.74      0.69       133\n",
      "\n",
      "avg / total       0.60      0.52      0.51       322\n",
      "\n",
      "{'depth': 5, 'kernel': 'linear', 'neighbor': 5}\n",
      "accuracy: 0.53\n",
      "             precision    recall  f1-score   support\n",
      "\n",
      "          0       0.25      0.48      0.33        33\n",
      "          1       0.52      0.41      0.46        27\n",
      "          2       0.60      0.60      0.60        15\n",
      "          3       0.20      0.05      0.08        20\n",
      "          4       0.32      0.24      0.27        29\n",
      "          5       0.88      0.35      0.51        65\n",
      "          6       0.61      0.77      0.68       133\n",
      "\n",
      "avg / total       0.57      0.53      0.51       322\n",
      "\n",
      "{'depth': 5, 'kernel': 'poly', 'neighbor': 1}\n",
      "accuracy: 0.50\n",
      "             precision    recall  f1-score   support\n",
      "\n",
      "          0       0.33      0.36      0.35        33\n",
      "          1       0.30      0.22      0.26        27\n",
      "          2       0.45      0.33      0.38        15\n",
      "          3       0.50      0.05      0.09        20\n",
      "          4       0.37      0.24      0.29        29\n",
      "          5       0.81      0.40      0.54        65\n",
      "          6       0.52      0.79      0.63       133\n",
      "\n",
      "avg / total       0.52      0.50      0.47       322\n",
      "\n",
      "{'depth': 5, 'kernel': 'poly', 'neighbor': 3}\n",
      "accuracy: 0.45\n",
      "             precision    recall  f1-score   support\n",
      "\n",
      "          0       0.20      0.33      0.25        33\n",
      "          1       0.19      0.15      0.17        27\n",
      "          2       0.50      0.33      0.40        15\n",
      "          3       0.67      0.10      0.17        20\n",
      "          4       0.44      0.24      0.31        29\n",
      "          5       0.81      0.26      0.40        65\n",
      "          6       0.51      0.75      0.61       133\n",
      "\n",
      "avg / total       0.52      0.45      0.43       322\n",
      "\n",
      "{'depth': 5, 'kernel': 'poly', 'neighbor': 5}\n",
      "accuracy: 0.47\n",
      "             precision    recall  f1-score   support\n",
      "\n",
      "          0       0.22      0.33      0.27        33\n",
      "          1       0.33      0.15      0.21        27\n",
      "          2       0.56      0.33      0.42        15\n",
      "          3       0.33      0.05      0.09        20\n",
      "          4       0.37      0.24      0.29        29\n",
      "          5       0.79      0.29      0.43        65\n",
      "          6       0.51      0.79      0.62       133\n",
      "\n",
      "avg / total       0.50      0.47      0.44       322\n",
      "\n",
      "{'depth': 5, 'kernel': 'rbf', 'neighbor': 1}\n",
      "accuracy: 0.42\n",
      "             precision    recall  f1-score   support\n",
      "\n",
      "          0       0.24      0.12      0.16        33\n",
      "          1       0.36      0.15      0.21        27\n",
      "          2       0.17      0.07      0.10        15\n",
      "          3       0.50      0.05      0.09        20\n",
      "          4       0.11      0.03      0.05        29\n",
      "          5       0.60      0.09      0.16        65\n",
      "          6       0.44      0.89      0.59       133\n",
      "\n",
      "avg / total       0.41      0.42      0.32       322\n",
      "\n",
      "{'depth': 5, 'kernel': 'rbf', 'neighbor': 3}\n",
      "accuracy: 0.42\n",
      "             precision    recall  f1-score   support\n",
      "\n",
      "          0       0.23      0.18      0.20        33\n",
      "          1       0.21      0.11      0.15        27\n",
      "          2       0.60      0.20      0.30        15\n",
      "          3       0.00      0.00      0.00        20\n",
      "          4       0.17      0.03      0.06        29\n",
      "          5       0.83      0.08      0.14        65\n",
      "          6       0.44      0.87      0.58       133\n",
      "\n",
      "avg / total       0.43      0.42      0.32       322\n",
      "\n",
      "{'depth': 5, 'kernel': 'rbf', 'neighbor': 5}\n",
      "accuracy: 0.40\n",
      "             precision    recall  f1-score   support\n",
      "\n",
      "          0       0.19      0.15      0.17        33\n",
      "          1       0.20      0.04      0.06        27\n",
      "          2       0.40      0.13      0.20        15\n",
      "          3       0.00      0.00      0.00        20\n",
      "          4       0.11      0.03      0.05        29\n",
      "          5       0.80      0.06      0.11        65\n",
      "          6       0.43      0.88      0.58       133\n",
      "\n",
      "avg / total       0.41      0.40      0.30       322\n",
      "\n",
      "{'depth': 10, 'kernel': 'linear', 'neighbor': 1}\n",
      "accuracy: 0.53\n",
      "             precision    recall  f1-score   support\n",
      "\n",
      "          0       0.33      0.76      0.46        33\n",
      "          1       0.25      0.33      0.29        27\n",
      "          2       0.42      0.67      0.51        15\n",
      "          3       0.25      0.10      0.14        20\n",
      "          4       0.45      0.31      0.37        29\n",
      "          5       0.79      0.48      0.60        65\n",
      "          6       0.71      0.64      0.67       133\n",
      "\n",
      "avg / total       0.59      0.53      0.54       322\n",
      "\n",
      "{'depth': 10, 'kernel': 'linear', 'neighbor': 3}\n",
      "accuracy: 0.50\n",
      "             precision    recall  f1-score   support\n",
      "\n",
      "          0       0.23      0.67      0.34        33\n",
      "          1       0.24      0.37      0.29        27\n",
      "          2       0.45      0.67      0.54        15\n",
      "          3       0.50      0.15      0.23        20\n",
      "          4       0.48      0.34      0.40        29\n",
      "          5       0.85      0.35      0.50        65\n",
      "          6       0.75      0.62      0.68       133\n",
      "\n",
      "avg / total       0.62      0.50      0.52       322\n",
      "\n",
      "{'depth': 10, 'kernel': 'linear', 'neighbor': 5}\n",
      "accuracy: 0.53\n",
      "             precision    recall  f1-score   support\n",
      "\n",
      "          0       0.26      0.67      0.38        33\n",
      "          1       0.30      0.37      0.33        27\n",
      "          2       0.45      0.67      0.54        15\n",
      "          3       0.17      0.05      0.08        20\n",
      "          4       0.40      0.28      0.33        29\n",
      "          5       0.94      0.48      0.63        65\n",
      "          6       0.71      0.66      0.68       133\n",
      "\n",
      "avg / total       0.60      0.53      0.54       322\n",
      "\n",
      "{'depth': 10, 'kernel': 'poly', 'neighbor': 1}\n",
      "accuracy: 0.48\n",
      "             precision    recall  f1-score   support\n",
      "\n",
      "          0       0.27      0.45      0.34        33\n",
      "          1       0.23      0.26      0.25        27\n",
      "          2       0.42      0.53      0.47        15\n",
      "          3       0.33      0.05      0.09        20\n",
      "          4       0.35      0.24      0.29        29\n",
      "          5       0.79      0.40      0.53        65\n",
      "          6       0.57      0.69      0.63       133\n",
      "\n",
      "avg / total       0.51      0.48      0.47       322\n",
      "\n",
      "{'depth': 10, 'kernel': 'poly', 'neighbor': 3}\n",
      "accuracy: 0.47\n",
      "             precision    recall  f1-score   support\n",
      "\n",
      "          0       0.21      0.48      0.29        33\n",
      "          1       0.19      0.22      0.21        27\n",
      "          2       0.58      0.47      0.52        15\n",
      "          3       0.75      0.15      0.25        20\n",
      "          4       0.37      0.24      0.29        29\n",
      "          5       0.85      0.34      0.48        65\n",
      "          6       0.58      0.67      0.62       133\n",
      "\n",
      "avg / total       0.55      0.47      0.47       322\n",
      "\n",
      "{'depth': 10, 'kernel': 'poly', 'neighbor': 5}\n",
      "accuracy: 0.49\n",
      "             precision    recall  f1-score   support\n",
      "\n",
      "          0       0.23      0.45      0.31        33\n",
      "          1       0.29      0.19      0.23        27\n",
      "          2       0.47      0.53      0.50        15\n",
      "          3       0.25      0.05      0.08        20\n",
      "          4       0.35      0.24      0.29        29\n",
      "          5       0.81      0.34      0.48        65\n",
      "          6       0.58      0.75      0.65       133\n",
      "\n",
      "avg / total       0.52      0.49      0.47       322\n",
      "\n",
      "{'depth': 10, 'kernel': 'rbf', 'neighbor': 1}\n",
      "accuracy: 0.41\n",
      "             precision    recall  f1-score   support\n",
      "\n",
      "          0       0.16      0.18      0.17        33\n",
      "          1       0.15      0.15      0.15        27\n",
      "          2       0.27      0.20      0.23        15\n",
      "          3       0.50      0.05      0.09        20\n",
      "          4       0.31      0.14      0.19        29\n",
      "          5       0.61      0.17      0.27        65\n",
      "          6       0.48      0.77      0.59       133\n",
      "\n",
      "avg / total       0.42      0.41      0.36       322\n",
      "\n",
      "{'depth': 10, 'kernel': 'rbf', 'neighbor': 3}\n"
     ]
    },
    {
     "name": "stdout",
     "output_type": "stream",
     "text": [
      "accuracy: 0.39\n",
      "             precision    recall  f1-score   support\n",
      "\n",
      "          0       0.09      0.15      0.11        33\n",
      "          1       0.16      0.15      0.15        27\n",
      "          2       0.50      0.33      0.40        15\n",
      "          3       0.00      0.00      0.00        20\n",
      "          4       0.43      0.10      0.17        29\n",
      "          5       0.82      0.14      0.24        65\n",
      "          6       0.47      0.76      0.58       133\n",
      "\n",
      "avg / total       0.45      0.39      0.35       322\n",
      "\n",
      "{'depth': 10, 'kernel': 'rbf', 'neighbor': 5}\n"
     ]
    },
    {
     "name": "stderr",
     "output_type": "stream",
     "text": [
      "/home/unj/anaconda3/lib/python3.6/site-packages/sklearn/metrics/classification.py:1135: UndefinedMetricWarning: Precision and F-score are ill-defined and being set to 0.0 in labels with no predicted samples.\n",
      "  'precision', 'predicted', average, warn_for)\n"
     ]
    },
    {
     "name": "stdout",
     "output_type": "stream",
     "text": [
      "accuracy: 0.42\n",
      "             precision    recall  f1-score   support\n",
      "\n",
      "          0       0.10      0.15      0.12        33\n",
      "          1       0.24      0.15      0.18        27\n",
      "          2       0.46      0.40      0.43        15\n",
      "          3       0.00      0.00      0.00        20\n",
      "          4       0.30      0.10      0.15        29\n",
      "          5       0.88      0.11      0.19        65\n",
      "          6       0.49      0.82      0.61       133\n",
      "\n",
      "avg / total       0.46      0.42      0.35       322\n",
      "\n"
     ]
    }
   ],
   "source": [
    "for depth, kernel, neighbor in product(depths, kernels, neighbors):\n",
    "    params = {\n",
    "        'depth': depth,\n",
    "        'kernel': kernel,\n",
    "        'neighbor': neighbor\n",
    "    }\n",
    "    print(params)\n",
    "    clf = VotingClassifier([\n",
    "        ('tree', DecisionTreeClassifier(max_depth=depth)),\n",
    "        ('svm', SVC(kernel=kernel)),\n",
    "        ('knn', KNeighborsClassifier(n_neighbors=neighbor)) \n",
    "    ])\n",
    "    clf.fit(train_features, y_train)\n",
    "    y_pred = clf.predict(test_features)\n",
    "    accuracy = accuracy_score(y_test, y_pred)\n",
    "    print(f'accuracy: {accuracy:.2f}')\n",
    "    print(classification_report(y_test, y_pred))"
   ]
  },
  {
   "cell_type": "code",
   "execution_count": 25,
   "metadata": {
    "collapsed": true
   },
   "outputs": [],
   "source": [
    "!ipython nbconvert ensemble.ipynb"
   ]
  },
  {
   "cell_type": "code",
   "execution_count": null,
   "metadata": {
    "collapsed": true
   },
   "outputs": [],
   "source": []
  }
 ],
 "metadata": {
  "kernelspec": {
   "display_name": "Python 3",
   "language": "python",
   "name": "python3"
  },
  "language_info": {
   "codemirror_mode": {
    "name": "ipython",
    "version": 3
   },
   "file_extension": ".py",
   "mimetype": "text/x-python",
   "name": "python",
   "nbconvert_exporter": "python",
   "pygments_lexer": "ipython3",
   "version": "3.6.2"
  }
 },
 "nbformat": 4,
 "nbformat_minor": 2
}
